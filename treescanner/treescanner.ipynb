{
 "cells": [
  {
   "cell_type": "markdown",
   "id": "d3d02b05",
   "metadata": {},
   "source": [
    "<div class=\"licence\">\n",
    "<span>Licence CC BY-NC-ND</span>\n",
    "<span>Thierry Parmentelat &amp; Arnaud Legout</span>\n",
    "<span><img src=\"media/both-logos-small-alpha.png\" /></span>\n",
    "</div>"
   ]
  },
  {
   "cell_type": "markdown",
   "id": "2c08dc1a",
   "metadata": {},
   "source": [
    "## Exercice - niveau intermédiaire+"
   ]
  },
  {
   "cell_type": "markdown",
   "id": "a2996b25",
   "metadata": {},
   "source": [
    "On veut écrire **une fonction génératrice** qui énumère tous les noeuds d'un arbre en le parcourant en profondeur d'abord.\n",
    "\n",
    "Pour simplifier l'exercice au maximum, nous ne considérons que des entrées constituées de listes et d'entiers."
   ]
  },
  {
   "cell_type": "code",
   "execution_count": null,
   "id": "d9a1636c",
   "metadata": {},
   "outputs": [],
   "source": [
    "from corrections.gen_treescanner import exo_treescanner\n",
    "exo_treescanner.example()"
   ]
  },
  {
   "cell_type": "markdown",
   "id": "e0078eeb",
   "metadata": {
    "tags": []
   },
   "source": [
    "la présentation de l'exemple peut laisser penser qu'il faut retourner une liste  \n",
    "mais ce n'est pas ce qui est demandé !  \n",
    "**attention** à bien implémenter **une fonction génératrice**"
   ]
  },
  {
   "cell_type": "code",
   "execution_count": null,
   "id": "c9ef5fa0",
   "metadata": {},
   "outputs": [],
   "source": [
    "# à vous de jouer\n",
    "def treescanner(tree):\n",
    "    try : \n",
    "        for child in tree :\n",
    "            yield from treescanner(child)\n",
    "    except :\n",
    "        yield tree\n",
    "    "
   ]
  },
  {
   "cell_type": "code",
   "execution_count": null,
   "id": "51b1e904",
   "metadata": {},
   "outputs": [],
   "source": [
    "exo_treescanner.correction(treescanner)"
   ]
  },
  {
   "cell_type": "markdown",
   "id": "c5c5345f",
   "metadata": {},
   "source": [
    "### indice\n",
    "\n",
    "rappelez-vous que pour parcourir un arbre en profondeur d'abord, un algorithme de parcours récursif est très adapté"
   ]
  }
 ],
 "metadata": {
  "jupytext": {
   "cell_metadata_filter": "all, -hidden, -heading_collapsed, -run_control, -trusted",
   "notebook_metadata_filter": "all, -jupytext.text_representation.jupytext_version, -jupytext.text_representation.format_version, -language_info.version, -language_info.codemirror_mode.version, -language_info.codemirror_mode, -language_info.file_extension, -language_info.mimetype, -toc",
   "text_representation": {
    "extension": ".md",
    "format_name": "myst"
   }
  },
  "kernelspec": {
   "display_name": "Python 3 (ipykernel)",
   "language": "python",
   "name": "python3"
  },
  "language_info": {
   "name": "python",
   "nbconvert_exporter": "python",
   "pygments_lexer": "ipython3"
  },
  "notebookname": "exercice: treescanner",
  "version": "3.0"
 },
 "nbformat": 4,
 "nbformat_minor": 5
}
