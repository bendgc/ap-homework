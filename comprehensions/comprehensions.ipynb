{
 "cells": [
  {
   "cell_type": "markdown",
   "id": "6b10d739",
   "metadata": {},
   "source": [
    "<div class=\"licence\">\n",
    "<span>Licence CC BY-NC-ND</span>\n",
    "<span>Thierry Parmentelat &amp; Arnaud Legout</span>\n",
    "<span><img src=\"media/both-logos-small-alpha.png\" /></span>\n",
    "</div>"
   ]
  },
  {
   "cell_type": "markdown",
   "id": "328a8e5a",
   "metadata": {},
   "source": [
    "# Compréhensions"
   ]
  },
  {
   "cell_type": "markdown",
   "id": "13a56070",
   "metadata": {},
   "source": [
    "## Exercice - niveau basique\n",
    "\n",
    "Il vous est demandé d'écrire une fonction `aplatir` qui prend *un unique* argument `l_conteneurs` qui est une liste (ou plus généralement un itérable) de conteneurs (ou plus généralement d'itérables), et qui retourne la liste de tous les éléments de tous les conteneurs."
   ]
  },
  {
   "cell_type": "code",
   "execution_count": null,
   "id": "09f8cd29",
   "metadata": {},
   "outputs": [],
   "source": [
    "import itertools"
   ]
  },
  {
   "cell_type": "code",
   "execution_count": null,
   "id": "b372f9d0",
   "metadata": {},
   "outputs": [],
   "source": [
    "# par exemple\n",
    "from corrections.exo_aplatir import exo_aplatir\n",
    "exo_aplatir.example()"
   ]
  },
  {
   "cell_type": "code",
   "execution_count": null,
   "id": "b20ff34d",
   "metadata": {},
   "outputs": [],
   "source": [
    "def aplatir(conteneurs):\n",
    "    def aplat_aux(cont):\n",
    "        try : \n",
    "            isinstance(len(cont), int)\n",
    "            return(cont)\n",
    "        except :\n",
    "            return([cont])\n",
    "    return( [el for cont in conteneurs for el in aplat_aux(cont) ])"
   ]
  },
  {
   "cell_type": "code",
   "execution_count": null,
   "id": "aa0a9fde",
   "metadata": {},
   "outputs": [],
   "source": []
  },
  {
   "cell_type": "code",
   "execution_count": null,
   "id": "296c0c1f",
   "metadata": {},
   "outputs": [],
   "source": [
    "# vérifier votre code\n",
    "exo_aplatir.correction(aplatir)"
   ]
  },
  {
   "cell_type": "markdown",
   "id": "696bf520",
   "metadata": {},
   "source": [
    "## Exercice - niveau intermédiaire\n",
    "\n",
    "À présent, on passe en argument deux conteneurs (deux itérables) `c1` et `c2` de même taille à la fonction `alternat`, qui doit construire une liste contenant les éléments pris alternativement dans `c1` et dans `c2`."
   ]
  },
  {
   "cell_type": "code",
   "execution_count": null,
   "id": "5814520b",
   "metadata": {},
   "outputs": [],
   "source": [
    "# exemple\n",
    "from corrections.exo_alternat import exo_alternat\n",
    "exo_alternat.example()"
   ]
  },
  {
   "cell_type": "markdown",
   "id": "ea3e2215",
   "metadata": {},
   "source": [
    "**Indice** pour cet exercice il peut être pertinent de recourir à la fonction *built-in* `zip`."
   ]
  },
  {
   "cell_type": "code",
   "execution_count": null,
   "id": "0768f89f",
   "metadata": {},
   "outputs": [],
   "source": [
    "def alternat(c1, c2):\n",
    "    return(aplatir([(el1, el2) for el1, el2 in zip(c1, c2)]))"
   ]
  },
  {
   "cell_type": "code",
   "execution_count": null,
   "id": "dd31e562",
   "metadata": {},
   "outputs": [],
   "source": [
    "# pour vérifier votre code\n",
    "exo_alternat.correction(alternat)"
   ]
  },
  {
   "cell_type": "markdown",
   "id": "62396dc6",
   "metadata": {},
   "source": [
    "## Exercice - niveau intermédiaire"
   ]
  },
  {
   "cell_type": "markdown",
   "id": "258a9daa",
   "metadata": {},
   "source": [
    "On se donne deux ensembles A et B de tuples de la forme\n",
    "\n",
    "```python\n",
    "(entier, valeur)\n",
    "```\n",
    "\n",
    "On vous demande d'écrire une fonction `intersect` qui retourne l'ensemble des objets `valeur` associés (dans A ou dans B) à un entier qui soit présent dans (un tuple de) A *et* dans (un tuple de) B."
   ]
  },
  {
   "cell_type": "code",
   "execution_count": null,
   "id": "35f3735e",
   "metadata": {},
   "outputs": [],
   "source": [
    "# un exemple\n",
    "from corrections.exo_intersect import exo_intersect\n",
    "exo_intersect.example()"
   ]
  },
  {
   "cell_type": "code",
   "execution_count": null,
   "id": "be39ffa8",
   "metadata": {},
   "outputs": [],
   "source": [
    "def intersect(A, B):\n",
    "    P = itertools.product(A, B)\n",
    "    return(set(aplatir({(val1, val2) for (key1, val1), (key2, val2) in P if key1 == key2 })))"
   ]
  },
  {
   "cell_type": "code",
   "execution_count": null,
   "id": "7e727671",
   "metadata": {},
   "outputs": [],
   "source": [
    "# pour vérifier votre code\n",
    "exo_intersect.correction(intersect)"
   ]
  }
 ],
 "metadata": {
  "jupytext": {
   "cell_metadata_filter": "all, -hidden, -heading_collapsed, -run_control, -trusted",
   "notebook_metadata_filter": "all, -jupytext.text_representation.jupytext_version, -jupytext.text_representation.format_version, -language_info.version, -language_info.codemirror_mode.version, -language_info.codemirror_mode, -language_info.file_extension, -language_info.mimetype, -toc",
   "text_representation": {
    "extension": ".md",
    "format_name": "myst"
   }
  },
  "kernelspec": {
   "display_name": "Python 3 (ipykernel)",
   "language": "python",
   "name": "python3"
  },
  "language_info": {
   "name": "python",
   "nbconvert_exporter": "python",
   "pygments_lexer": "ipython3"
  },
  "notebookname": "Compréhensions",
  "version": "3.0"
 },
 "nbformat": 4,
 "nbformat_minor": 5
}
