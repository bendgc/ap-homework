{
 "cells": [
  {
   "cell_type": "markdown",
   "id": "1f3a160f",
   "metadata": {},
   "source": [
    "<div class=\"licence\">\n",
    "<span>Licence CC BY-NC-ND</span>\n",
    "<span>Thierry Parmentelat &amp; Arnaud Legout</span>\n",
    "<span><img src=\"media/both-logos-small-alpha.png\" /></span>\n",
    "</div>"
   ]
  },
  {
   "cell_type": "markdown",
   "id": "80eed334",
   "metadata": {},
   "source": [
    "## exercice - niveau avancé"
   ]
  },
  {
   "cell_type": "markdown",
   "id": "ab1f26dd",
   "metadata": {},
   "source": [
    "Le [corps des quaternions](https://fr.wikipedia.org/wiki/Quaternion) est une extension non commutative du corps des complexes; la construction mathématique est totalement hors sujet pour nous, on va se contenter de ces quelques bribes :\n",
    "\n",
    "* les quaternions peuvent être vus comme un espace vectoriel \n",
    "  sur $\\mathbb{R}$, un peu comme les complexes mais de dimension 4\n",
    "* un quaternion s'écrit donc $q = a + bi + cj + dk$  \n",
    "  avec $(a, b, c, d) \\in \\mathbb{R}^4$  \n",
    "  (les deux premiers éléments $1$ et $i$ de cette base canonique sont ceux des nombres complexes)\n",
    "* les trois éléments $i, j, k$ sont tels que  \n",
    "  $$i^2 = j^2 = k^2 = ijk = -1$$"
   ]
  },
  {
   "cell_type": "markdown",
   "id": "5c600e1b",
   "metadata": {},
   "source": [
    "**attention** : l'addition est bien commutative,  \n",
    "mais à nouveau **la multiplication n'est pas commutative**  \n",
    "ainsi par exemple $ij = k$ mais $ji = -k$\n",
    "\n",
    "les règles indiquées ci-dessus impliquent (on vous laisse vous en assurer) que la table de multiplication est la suivante\n",
    "\n",
    "![](media/quaternion-table.png)"
   ]
  },
  {
   "cell_type": "markdown",
   "id": "3f7459db",
   "metadata": {},
   "source": [
    "On se propose ici d'écrire une classe pour représenter les quaternions.\n",
    "\n",
    "**Notes importantes**\n",
    "\n",
    "* il est malheureux que Python ait retenu la notation `j` pour représenter ce qu'on appelle $i$ dans le corps des complexes, surtout dans ce contexte des quaternions où il y a un autre nombre qui s'appelle justement $j$...\n",
    "\n",
    "* le système de correction automatique a besoin également que votre classe définisse son comportement vis-à-vis de `repr()` ; regardez les exemples pour voir la représentation choisie, et inspirez-vous de la fonction `number_str` comme suit :"
   ]
  },
  {
   "cell_type": "code",
   "execution_count": null,
   "id": "2884607a",
   "metadata": {},
   "outputs": [],
   "source": [
    "# vous vous souvenez des type hints ?\n",
    "# sinon retournez voir la semaine 4 séquence 1\n",
    "\n",
    "def number_str(x: float) -> str:\n",
    "    \"\"\"\n",
    "    la fonction utilisée dans Quaternion.__repr__ \n",
    "    pour la mise en forme des nombres\n",
    "    \"\"\"\n",
    "    if isinstance(x, int):\n",
    "        return f\"{x}\"\n",
    "    elif isinstance(x, float):\n",
    "        return f\"{x:.1f}\""
   ]
  },
  {
   "cell_type": "code",
   "execution_count": null,
   "id": "20cbe6d9",
   "metadata": {},
   "outputs": [],
   "source": [
    "from corrections.cls_quaternion import exo_quaternion\n",
    "exo_quaternion.example()"
   ]
  },
  {
   "cell_type": "markdown",
   "id": "f2f0d0a7",
   "metadata": {},
   "source": [
    "*****"
   ]
  },
  {
   "cell_type": "code",
   "execution_count": null,
   "id": "5f9286ae",
   "metadata": {},
   "outputs": [],
   "source": [
    "# votre code\n",
    "\n",
    "class Quaternion:\n",
    "    \n",
    "    def __init__(self, a, b, c, d):\n",
    "        self.a = a\n",
    "        self.b = b\n",
    "        self.c = c\n",
    "        self.d = d\n",
    "        self.nb = {a : '', b : 'i', c : 'j', d : 'k' }\n",
    "    \n",
    "    def __add__(self, qua) :\n",
    "        if isinstance(qua, int) or isinstance(qua, float) :\n",
    "            return(Quaternion(self.a + qua, self.b, self.c, self.d))\n",
    "        elif isinstance(qua, complex) :\n",
    "            return(Quaternion(self.a + qua.real, self.b + qua.imag, self.c, self.d))\n",
    "        elif isinstance(qua, Quaternion) :\n",
    "            return(Quaternion(self.a + qua.a, self.b + qua.b, self.c + qua.c, self.d + qua.d))\n",
    "        \n",
    "    \n",
    "    def __mul__(self,qua) :\n",
    "        a = self.a; b = self.b; c = self.c; d = self.d\n",
    "        e = qua.a; f = qua.b; g = qua.c; h = qua.d\n",
    "        return(Quaternion(a*e-b*f-c*g-d*h, a*f+b*e+c*h-d*g, a*g-b*h+c*e+d*f, a*h+b*g-c*f+d*e))\n",
    "        \n",
    "        \n",
    "    \n",
    "    \n",
    "    def __eq__(self,qua):\n",
    "        if isinstance(qua,complex) :\n",
    "            return( self.a + self.b*1j == qua)\n",
    "        elif isinstance(qua, float) :\n",
    "            return(self.a == qua)\n",
    "        elif isinstance(qua, int) :\n",
    "            return(self.a == qua)\n",
    "        elif isinstance(qua, Quaternion) :\n",
    "            return(repr(self) == repr(qua))\n",
    "        \n",
    "        \n",
    "    def __repr__(self) :\n",
    "        rep = ''\n",
    "        for (key, value) in self.nb.items() :\n",
    "            if key != 0:\n",
    "                rep += f\"{key}{value}\"\n",
    "        return(rep)\n",
    "        \n",
    "        "
   ]
  },
  {
   "cell_type": "markdown",
   "id": "2f7afcbf",
   "metadata": {},
   "source": [
    "*****"
   ]
  },
  {
   "cell_type": "code",
   "execution_count": null,
   "id": "23088cde",
   "metadata": {},
   "outputs": [],
   "source": [
    "# correction\n",
    "exo_quaternion.correction(Quaternion)"
   ]
  },
  {
   "cell_type": "code",
   "execution_count": null,
   "id": "7710661e",
   "metadata": {},
   "outputs": [],
   "source": [
    "# peut-être utile pour debugger ?\n",
    "I = Quaternion(0, 1, 0, 0)\n",
    "J = Quaternion(0, 0, 1, 0)\n",
    "K = Quaternion(0, 0, 0, 1)"
   ]
  },
  {
   "cell_type": "code",
   "execution_count": null,
   "id": "f78548eb",
   "metadata": {},
   "outputs": [],
   "source": [
    "I*J == K"
   ]
  },
  {
   "cell_type": "code",
   "execution_count": null,
   "id": "0f758af9",
   "metadata": {},
   "outputs": [],
   "source": [
    "J*K == I"
   ]
  },
  {
   "cell_type": "code",
   "execution_count": null,
   "id": "27c0ad26",
   "metadata": {},
   "outputs": [],
   "source": [
    "K*I == J"
   ]
  },
  {
   "cell_type": "code",
   "execution_count": null,
   "id": "e9f103a9",
   "metadata": {},
   "outputs": [],
   "source": [
    "I*I == J*J == K*K == -1"
   ]
  },
  {
   "cell_type": "code",
   "execution_count": null,
   "id": "a274f435",
   "metadata": {},
   "outputs": [],
   "source": [
    "J*K == 1j"
   ]
  },
  {
   "cell_type": "code",
   "execution_count": null,
   "id": "eac0fa08",
   "metadata": {},
   "outputs": [],
   "source": [
    "K*J == -1j"
   ]
  },
  {
   "cell_type": "code",
   "execution_count": null,
   "id": "d90beb23",
   "metadata": {},
   "outputs": [],
   "source": [
    "Quaternion(1, 2, 3, 4) == (1+2j) + J * Quaternion(3-4j)"
   ]
  },
  {
   "cell_type": "code",
   "execution_count": null,
   "id": "2b3794e3",
   "metadata": {},
   "outputs": [],
   "source": [
    "J"
   ]
  },
  {
   "cell_type": "markdown",
   "id": "c4bd1296",
   "metadata": {},
   "source": [
    "comme exercice, vous pouvez aussi vous amuser à vérifier l'identité suivante (extraite de [cette vidéo de 3blue1brown](https://www.youtube.com/watch?v=d4EgbgTm0Bg))\n",
    "\n",
    "![](media/quaternion-multiply.png)"
   ]
  }
 ],
 "metadata": {
  "ipub": {
   "sphinx": {
    "toggle_input": true,
    "toggle_input_all": true,
    "toggle_output": true,
    "toggle_output_all": true
   }
  },
  "jupytext": {
   "cell_metadata_filter": "all, -hidden, -heading_collapsed, -run_control, -trusted",
   "notebook_metadata_filter": "all, -jupytext.text_representation.jupytext_version, -jupytext.text_representation.format_version, -language_info.version, -language_info.codemirror_mode.version, -language_info.codemirror_mode, -language_info.file_extension, -language_info.mimetype, -toc"
  },
  "kernelspec": {
   "display_name": "Python 3 (ipykernel)",
   "language": "python",
   "name": "python3"
  },
  "language_info": {
   "codemirror_mode": {
    "name": "ipython",
    "version": 3
   },
   "file_extension": ".py",
   "mimetype": "text/x-python",
   "name": "python",
   "nbconvert_exporter": "python",
   "pygments_lexer": "ipython3",
   "version": "3.9.12"
  },
  "notebookname": "classe Quaternion",
  "version": "3.0"
 },
 "nbformat": 4,
 "nbformat_minor": 5
}
